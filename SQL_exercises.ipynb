{
 "cells": [
  {
   "cell_type": "markdown",
   "metadata": {},
   "source": [
    "## We will be working with database chinook.db\n",
    "You can download it here: https://drive.google.com/file/d/0Bz9_0VdXvv9bWUtqM0NBYzhKZ3c/view?usp=sharing\n",
    "\n",
    "The\tChinook\tDatabase is\tabout an imaginary video and music store. Each track is\tstored using one of\tthe digital formats and\thas\ta genre. The store has also\tsome playlists,\twhere a single track can be\tpart of several\tplaylists. Orders are recorded\tfor\tcustomers, but are called invoices. Every customer is assigned a support employee, and Employees report to other employees."
   ]
  },
  {
   "cell_type": "markdown",
   "metadata": {},
   "source": [
    "### How to connect Python to database\n",
    "In the begining of this exercise we are going to show we can work with the databases inside the Python. We will connect this notebook to the `chinook.db` file we have downloaded earlier."
   ]
  },
  {
   "cell_type": "markdown",
   "metadata": {},
   "source": [
    "<img src=\"chinook.jpeg\" alt=\"Drawing\" style=\"width: 600px;\"/>"
   ]
  },
  {
   "cell_type": "code",
   "execution_count": 2,
   "metadata": {},
   "outputs": [],
   "source": [
    "import sqlite3\n",
    "conn = sqlite3.connect(\"chinook.db\") # the chinook file has to be in the same directory as our notebook"
   ]
  },
  {
   "cell_type": "code",
   "execution_count": 3,
   "metadata": {},
   "outputs": [
    {
     "name": "stdout",
     "output_type": "stream",
     "text": [
      "[(1, 'AC/DC'), (2, 'Accept'), (3, 'Aerosmith'), (4, 'Alanis Morissette'), (5, 'Alice In Chains')]\n"
     ]
    }
   ],
   "source": [
    "cur = conn.cursor()\n",
    "cur.execute(\"select * from artists limit 5;\")\n",
    "results = cur.fetchall()\n",
    "print(results)"
   ]
  },
  {
   "cell_type": "markdown",
   "metadata": {},
   "source": [
    "- each row is represented as 1 item in the list\n",
    "- each row consists of tuple with number of items equal to number of columns in the table `artists`"
   ]
  },
  {
   "cell_type": "code",
   "execution_count": 11,
   "metadata": {},
   "outputs": [],
   "source": [
    "# Before we move on, it’s good practice to close Connection objects and Cursor objects that are open. \n",
    "# This prevents the SQLite database from being locked.\n",
    "cur.close()\n",
    "conn.close()"
   ]
  },
  {
   "cell_type": "markdown",
   "metadata": {},
   "source": [
    "Now, we can solve simple challenges below. Feel free to use **SQLWorkbench**, the tool we connected to `chinook.db` database during the tutorial in the morning, for building the queries as well."
   ]
  },
  {
   "cell_type": "markdown",
   "metadata": {},
   "source": [
    "### Which\tartists\tdid\tnot\tmake\tany\talbums\tat\tall?\tInclude\ttheir\tnames\tin your\tanswer."
   ]
  },
  {
   "cell_type": "code",
   "execution_count": 8,
   "metadata": {},
   "outputs": [
    {
     "name": "stdout",
     "output_type": "stream",
     "text": [
      "[('A Cor Do Som',), ('Academy of St. Martin in the Fields, Sir Neville Marriner & William Bennett',), (\"Aerosmith & Sierra Leone's Refugee Allstars\",), ('Avril Lavigne',), ('Azymuth',), ('Baby Consuelo',), ('Banda Black Rio',), ('Barão Vermelho',), ('Bebel Gilberto',), ('Ben Harper',), ('Big & Rich',), ('Black Eyed Peas',), ('Charlie Brown Jr.',), ('Christina Aguilera featuring BigElf',), ('Corinne Bailey Rae',), ('DJ Dolores & Orchestra Santa Massa',), ('Dhani Harrison & Jakob Dylan',), ('Edson, DJ Marky & DJ Patife Featuring Fernanda Porto',), ('Fernanda Porto',), ('Gustavo & Andres Veiga & Salazar',), ('Hermeto Pascoal',), ('Instituto',), ('Jack Johnson',), (\"Jack's Mannequin & Mick Fleetwood\",), ('Jackson Browne',), ('Jaguares',), ('Jorge Vercilo',), ('João Gilberto',), ('Kid Abelha',), ('Los Hermanos',), ('Los Lonely Boys',), ('Luiz Melodia',), ('Matisyahu',), ('Milton Nascimento & Bebeto',), ('Motörhead & Girlschool',), ('Mundo Livre S/A',), ('Nando Reis',), ('Nação Zumbi',), ('Nega Gizza',), ('Ney Matogrosso',), ('Os Cariocas',), ('Otto',), ('Pedro Luís & A Parede',), ('Pedro Luís E A Parede',), ('Peter Tosh',), ('R.E.M. Feat. KRS-One',), ('Regina Spektor',), ('Rodox',), ('Sabotage E Instituto',), ('Sandra De Sá',), ('Santana Feat. Dave Matthews',), ('Santana Feat. Eagle-Eye Cherry',), ('Santana Feat. Eric Clapton',), ('Santana Feat. Everlast',), ('Santana Feat. Lauryn Hill & Cee-Lo',), ('Santana Feat. Maná',), ('Santana Feat. Rob Thomas',), ('Santana Feat. The Project G&B',), ('Seu Jorge',), ('Simply Red',), ('Snow Patrol',), ('Stereo Maracana',), ('The Flaming Lips',), ('The Postal Service',), ('Vinicius, Toquinho & Quarteto Em Cy',), ('Vinícius De Moraes & Baden Powell',), ('Vinícius E Odette Lara',), ('Vinícius E Qurteto Em Cy',), ('Whitesnake',), ('Xis',), (\"Youssou N'Dour\",)]\n"
     ]
    }
   ],
   "source": [
    "cur.execute(\"\"\"select name from artists\n",
    "            left outer join albums\n",
    "            on artists.artistId = albums.artistId\n",
    "            group by artists.name\n",
    "            having count(albums.title) = 0;\n",
    "            \"\"\")\n",
    "results1 = cur.fetchall()\n",
    "print(results1)"
   ]
  },
  {
   "cell_type": "markdown",
   "metadata": {},
   "source": [
    "### Which\tartists\trecorded\tany\ttracks\tof\tthe\tLatin\tgenre?"
   ]
  },
  {
   "cell_type": "code",
   "execution_count": 46,
   "metadata": {},
   "outputs": [
    {
     "name": "stdout",
     "output_type": "stream",
     "text": [
      "[('Caetano Veloso',), ('Chico Buarque',), ('Chico Science & Nação Zumbi',), ('Cláudio Zoli',), ('Cássia Eller',), ('Djavan',), ('Ed Motta',), ('Elis Regina',), ('Falamansa',), ('Funk Como Le Gusta',), ('Gonzaguinha',), ('Jorge Ben',), ('Jota Quest',), ('Legião Urbana',), ('Luciana Souza/Romero Lubambo',), ('Lulu Santos',), ('Marcos Valle',), ('Marisa Monte',), ('Milton Nascimento',), ('Olodum',), ('Os Paralamas Do Sucesso',), ('Tim Maia',), ('Vinícius De Moraes',), ('Zeca Pagodinho',)]\n"
     ]
    }
   ],
   "source": [
    "cur.execute(\"\"\"select artists.name from artists\n",
    "               left outer join albums on artists.artistId = albums.artistId\n",
    "               left outer join tracks on albums.albumId = tracks.albumId\n",
    "               left outer join genres on tracks.genreId = genres.genreId\n",
    "               group by artists.name\n",
    "               having genres.name = \"Latin\";\n",
    "            \"\"\")\n",
    "results2 = cur.fetchall()\n",
    "print(results2)"
   ]
  },
  {
   "cell_type": "markdown",
   "metadata": {},
   "source": [
    "### Which\tvideo track\thas\tthe\tlongest\tlength?"
   ]
  },
  {
   "cell_type": "code",
   "execution_count": 43,
   "metadata": {},
   "outputs": [
    {
     "name": "stdout",
     "output_type": "stream",
     "text": [
      "[(5286953, 'Occupation / Precipice')]\n"
     ]
    }
   ],
   "source": [
    "cur.execute(\"\"\"select max(tracks.milliseconds), tracks.name from tracks\n",
    "               left outer join media_types on tracks.mediaTypeId = media_types.mediaTypeId    \n",
    "               where media_types.name = 'Protected MPEG-4 video file';\n",
    "            \"\"\")\n",
    "results3 = cur.fetchall()\n",
    "print(results3)"
   ]
  },
  {
   "cell_type": "markdown",
   "metadata": {},
   "source": [
    "### Find\tthe\tnames\tof\tcustomers\twho\tlive\tin\tthe\tsame\tcity\tas\tthe\ttop\temployee\t(The\tone\tnot\tmanaged\tby\tanyone)."
   ]
  },
  {
   "cell_type": "code",
   "execution_count": 36,
   "metadata": {},
   "outputs": [
    {
     "name": "stdout",
     "output_type": "stream",
     "text": [
      "[('Mark', 'Philips')]\n"
     ]
    }
   ],
   "source": [
    "cur.execute(\"\"\"select customers.firstName, customers.lastName from customers\n",
    "               left outer join employees on customers.city = employees.city\n",
    "               group by customers.firstName\n",
    "               having employees.title = 'General Manager';\n",
    "            \"\"\")\n",
    "results4 = cur.fetchall()\n",
    "print(results4)"
   ]
  },
  {
   "cell_type": "markdown",
   "metadata": {},
   "source": [
    "### Find\tthe\tmanagers of\temployees\tsupporting\tBrazilian\tcustomers."
   ]
  },
  {
   "cell_type": "code",
   "execution_count": 49,
   "metadata": {},
   "outputs": [
    {
     "name": "stdout",
     "output_type": "stream",
     "text": [
      "[('Nancy', 'Edwards')]\n"
     ]
    }
   ],
   "source": [
    "cur.execute(\"\"\"select employees.firstName, employees.lastName from employees\n",
    "               left outer join employees support on employees.employeeId = support.reportsTo\n",
    "               left outer join customers on customers.supportRepId = support.employeeId\n",
    "               group by employees.firstName\n",
    "               having employees.title like '%Manager%' and customers.country = 'Brazil';\n",
    "            \"\"\")\n",
    "results5 = cur.fetchall()\n",
    "print(results5)"
   ]
  },
  {
   "cell_type": "markdown",
   "metadata": {},
   "source": [
    "### Which\tplaylists\thave\tno\tLatin\ttracks?"
   ]
  },
  {
   "cell_type": "code",
   "execution_count": 71,
   "metadata": {},
   "outputs": [
    {
     "name": "stdout",
     "output_type": "stream",
     "text": [
      "[('Audiobooks',), ('Movies',)]\n"
     ]
    }
   ],
   "source": [
    "cur.execute(\"\"\"select playlists.name from playlists\n",
    "               left outer join playlist_track on playlists.playlistId = playlist_track.playlistId\n",
    "               left outer join tracks on playlist_track.trackId = tracks.trackId\n",
    "               left outer join genres on tracks.genreId = genres.genreId\n",
    "               group by playlists.name\n",
    "               having count(genres.name = \"Latin\") = 0;\n",
    "            \"\"\")\n",
    "results6 = cur.fetchall()\n",
    "print(results6)"
   ]
  }
 ],
 "metadata": {
  "kernelspec": {
   "display_name": "Python 3",
   "language": "python",
   "name": "python3"
  },
  "language_info": {
   "codemirror_mode": {
    "name": "ipython",
    "version": 3
   },
   "file_extension": ".py",
   "mimetype": "text/x-python",
   "name": "python",
   "nbconvert_exporter": "python",
   "pygments_lexer": "ipython3",
   "version": "3.8.3"
  }
 },
 "nbformat": 4,
 "nbformat_minor": 4
}
